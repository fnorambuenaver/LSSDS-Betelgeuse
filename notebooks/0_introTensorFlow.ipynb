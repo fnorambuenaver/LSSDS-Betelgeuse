{
 "cells": [
  {
   "cell_type": "markdown",
   "metadata": {},
   "source": [
    "# TensorFlow Guide"
   ]
  },
  {
   "cell_type": "markdown",
   "metadata": {},
   "source": [
    "Library's used:"
   ]
  },
  {
   "cell_type": "code",
   "execution_count": 22,
   "metadata": {},
   "outputs": [],
   "source": [
    "import pandas as pd\n",
    "import numpy as np\n",
    "import matplotlib.pyplot as plt"
   ]
  },
  {
   "cell_type": "code",
   "execution_count": 3,
   "metadata": {},
   "outputs": [],
   "source": [
    "import tensorflow as tf\n",
    "layers = tf.keras.layers"
   ]
  },
  {
   "cell_type": "markdown",
   "metadata": {},
   "source": [
    "Importing of training dataset:"
   ]
  },
  {
   "cell_type": "code",
   "execution_count": 13,
   "metadata": {},
   "outputs": [],
   "source": [
    "fashion_mnist = tf.keras.datasets.fashion_mnist.load_data()\n",
    "(X_trainFull,y_trainFull),(X_test, y_test) = fashion_mnist\n",
    "X_train, y_train = X_trainFull[:-5000], y_trainFull[:-5000]\n",
    "X_valid, y_valid = X_trainFull[-5000:], y_trainFull[-5000:]\n",
    "\n",
    "# By reading the metadata on the website, there are digits from 0 to 9\n",
    "# each one representing a class\n",
    "class_names = ['T-shirt','Trouser','Pullover','Dress','Coat','Sandal',\n",
    "    'Shirt','Sneaker','Bag','Ankle Boot']\n",
    "\n",
    "# A thing that's recommended on image is to normalize\n",
    "# if its black and white each pixel as a number from 0 to 255\n",
    "# so dividing by the maximum number leaves the values from 0 to 1\n",
    "X_train = X_train/255.0\n",
    "X_valid = X_valid/255.0\n",
    "X_test = X_test/255.0"
   ]
  },
  {
   "cell_type": "code",
   "execution_count": 17,
   "metadata": {},
   "outputs": [
    {
     "name": "stdout",
     "output_type": "stream",
     "text": [
      "first five targets: [9 0 0 3 0]\n",
      "first data is class: Ankle Boot\n"
     ]
    }
   ],
   "source": [
    "print(f'first five targets: {y_train[:5]}')\n",
    "print(f'first data is class: {class_names[y_train[0]]}')"
   ]
  },
  {
   "cell_type": "markdown",
   "metadata": {},
   "source": [
    "### How to Create a Simple Tensorflow Model\n",
    "- *Sequential API*\n",
    "    - Allows for the creation of a model adding layer by layer"
   ]
  },
  {
   "cell_type": "code",
   "execution_count": 6,
   "metadata": {},
   "outputs": [
    {
     "name": "stdout",
     "output_type": "stream",
     "text": [
      "Model: \"sequential_2\"\n",
      "_________________________________________________________________\n",
      " Layer (type)                Output Shape              Param #   \n",
      "=================================================================\n",
      " flatten_2 (Flatten)         (None, 784)               0         \n",
      "                                                                 \n",
      " dense_4 (Dense)             (None, 300)               235500    \n",
      "                                                                 \n",
      " dense_5 (Dense)             (None, 10)                3010      \n",
      "                                                                 \n",
      "=================================================================\n",
      "Total params: 238,510\n",
      "Trainable params: 238,510\n",
      "Non-trainable params: 0\n",
      "_________________________________________________________________\n"
     ]
    }
   ],
   "source": [
    "tf.random.set_seed(2023)\n",
    "\n",
    "# Sequential API\n",
    "model = tf.keras.Sequential(\n",
    "    [\n",
    "    layers.Input(shape=[28,28]),\n",
    "    layers.Flatten(),\n",
    "    layers.Dense(300, activation='relu'),\n",
    "    layers.Dense(10, activation='softmax')\n",
    "    ]\n",
    ")\n",
    "\n",
    "model.summary()"
   ]
  },
  {
   "cell_type": "markdown",
   "metadata": {},
   "source": [
    "About the loss function we will be using:\n",
    "- sparse: the class are exclusive, a shoe cant be a coat, so there are no mixes\n",
    "- categorical: predicting an 8 when we had a 9 is not better than predicting a 8 when it should been a 0, *the distance between numbers dont have meaning*\n",
    "- crossentropy: measures the error based on a probability of ocurrence of the data point"
   ]
  },
  {
   "cell_type": "code",
   "execution_count": 18,
   "metadata": {},
   "outputs": [
    {
     "name": "stdout",
     "output_type": "stream",
     "text": [
      "Epoch 1/30\n",
      "1719/1719 [==============================] - 8s 4ms/step - loss: 0.4895 - accuracy: 0.8268 - val_loss: 0.4028 - val_accuracy: 0.8516\n",
      "Epoch 2/30\n",
      "1719/1719 [==============================] - 6s 4ms/step - loss: 0.3636 - accuracy: 0.8678 - val_loss: 0.3562 - val_accuracy: 0.8708\n",
      "Epoch 3/30\n",
      "1719/1719 [==============================] - 8s 5ms/step - loss: 0.3301 - accuracy: 0.8791 - val_loss: 0.3336 - val_accuracy: 0.8800\n",
      "Epoch 4/30\n",
      "1719/1719 [==============================] - 7s 4ms/step - loss: 0.3029 - accuracy: 0.8878 - val_loss: 0.3173 - val_accuracy: 0.8812\n",
      "Epoch 5/30\n",
      "1719/1719 [==============================] - 8s 5ms/step - loss: 0.2852 - accuracy: 0.8956 - val_loss: 0.3281 - val_accuracy: 0.8840\n",
      "Epoch 6/30\n",
      "1719/1719 [==============================] - 8s 4ms/step - loss: 0.2707 - accuracy: 0.8995 - val_loss: 0.3235 - val_accuracy: 0.8774\n",
      "Epoch 7/30\n",
      "1719/1719 [==============================] - 8s 5ms/step - loss: 0.2564 - accuracy: 0.9044 - val_loss: 0.3211 - val_accuracy: 0.8840\n",
      "Epoch 8/30\n",
      "1719/1719 [==============================] - 8s 5ms/step - loss: 0.2452 - accuracy: 0.9089 - val_loss: 0.3020 - val_accuracy: 0.8888\n",
      "Epoch 9/30\n",
      "1719/1719 [==============================] - 8s 5ms/step - loss: 0.2370 - accuracy: 0.9117 - val_loss: 0.3115 - val_accuracy: 0.8932\n",
      "Epoch 10/30\n",
      "1719/1719 [==============================] - 8s 5ms/step - loss: 0.2272 - accuracy: 0.9150 - val_loss: 0.3088 - val_accuracy: 0.8868\n",
      "Epoch 11/30\n",
      "1719/1719 [==============================] - 8s 5ms/step - loss: 0.2178 - accuracy: 0.9176 - val_loss: 0.3300 - val_accuracy: 0.8836\n",
      "Epoch 12/30\n",
      "1719/1719 [==============================] - 8s 5ms/step - loss: 0.2087 - accuracy: 0.9224 - val_loss: 0.3162 - val_accuracy: 0.8918\n",
      "Epoch 13/30\n",
      "1719/1719 [==============================] - 8s 5ms/step - loss: 0.2030 - accuracy: 0.9224 - val_loss: 0.3375 - val_accuracy: 0.8872\n",
      "Epoch 14/30\n",
      "1719/1719 [==============================] - 8s 5ms/step - loss: 0.1962 - accuracy: 0.9263 - val_loss: 0.3590 - val_accuracy: 0.8794\n",
      "Epoch 15/30\n",
      "1719/1719 [==============================] - 8s 5ms/step - loss: 0.1908 - accuracy: 0.9291 - val_loss: 0.3481 - val_accuracy: 0.8864\n",
      "Epoch 16/30\n",
      "1719/1719 [==============================] - 8s 5ms/step - loss: 0.1830 - accuracy: 0.9311 - val_loss: 0.3305 - val_accuracy: 0.8922\n",
      "Epoch 17/30\n",
      "1719/1719 [==============================] - 9s 5ms/step - loss: 0.1762 - accuracy: 0.9335 - val_loss: 0.3625 - val_accuracy: 0.8900\n",
      "Epoch 18/30\n",
      "1719/1719 [==============================] - 9s 6ms/step - loss: 0.1705 - accuracy: 0.9372 - val_loss: 0.3556 - val_accuracy: 0.8864\n",
      "Epoch 19/30\n",
      "1719/1719 [==============================] - 9s 5ms/step - loss: 0.1672 - accuracy: 0.9371 - val_loss: 0.3507 - val_accuracy: 0.8858\n",
      "Epoch 20/30\n",
      "1719/1719 [==============================] - 8s 5ms/step - loss: 0.1602 - accuracy: 0.9403 - val_loss: 0.3646 - val_accuracy: 0.8842\n",
      "Epoch 21/30\n",
      "1719/1719 [==============================] - 8s 5ms/step - loss: 0.1561 - accuracy: 0.9406 - val_loss: 0.3441 - val_accuracy: 0.8956\n",
      "Epoch 22/30\n",
      "1719/1719 [==============================] - 8s 5ms/step - loss: 0.1532 - accuracy: 0.9435 - val_loss: 0.3653 - val_accuracy: 0.8856\n",
      "Epoch 23/30\n",
      "1719/1719 [==============================] - 8s 5ms/step - loss: 0.1501 - accuracy: 0.9442 - val_loss: 0.3664 - val_accuracy: 0.8910\n",
      "Epoch 24/30\n",
      "1719/1719 [==============================] - 8s 5ms/step - loss: 0.1423 - accuracy: 0.9472 - val_loss: 0.3958 - val_accuracy: 0.8856\n",
      "Epoch 25/30\n",
      "1719/1719 [==============================] - 8s 5ms/step - loss: 0.1433 - accuracy: 0.9455 - val_loss: 0.3738 - val_accuracy: 0.8948\n",
      "Epoch 26/30\n",
      "1719/1719 [==============================] - 8s 5ms/step - loss: 0.1366 - accuracy: 0.9483 - val_loss: 0.3881 - val_accuracy: 0.8906\n",
      "Epoch 27/30\n",
      "1719/1719 [==============================] - 8s 5ms/step - loss: 0.1315 - accuracy: 0.9507 - val_loss: 0.4069 - val_accuracy: 0.8870\n",
      "Epoch 28/30\n",
      "1719/1719 [==============================] - 8s 5ms/step - loss: 0.1313 - accuracy: 0.9503 - val_loss: 0.4014 - val_accuracy: 0.8920\n",
      "Epoch 29/30\n",
      "1719/1719 [==============================] - 8s 5ms/step - loss: 0.1257 - accuracy: 0.9526 - val_loss: 0.4060 - val_accuracy: 0.8878\n",
      "Epoch 30/30\n",
      "1719/1719 [==============================] - 8s 5ms/step - loss: 0.1235 - accuracy: 0.9528 - val_loss: 0.4020 - val_accuracy: 0.8902\n"
     ]
    }
   ],
   "source": [
    "# Create a compilation of the model so it runs quicker\n",
    "model.compile(\n",
    "    loss='sparse_categorical_crossentropy',\n",
    "    optimizer='adam',\n",
    "    metrics=['accuracy']\n",
    ")\n",
    "\n",
    "# train it generating an history\n",
    "history = model.fit(X_train, y_train, epochs=30,\n",
    "    validation_data=(X_valid,y_valid))"
   ]
  },
  {
   "cell_type": "code",
   "execution_count": 29,
   "metadata": {},
   "outputs": [
    {
     "data": {
      "image/png": "[encoded data removed]",
      "text/plain": [
       "<Figure size 432x288 with 1 Axes>"
      ]
     },
     "metadata": {
      "needs_background": "light"
     },
     "output_type": "display_data"
    }
   ],
   "source": [
    "# Because history.history is a dictionary, is very comfy to use pandas\n",
    "historyDf = pd.DataFrame(history.history)\n",
    "historyDf.plot()\n",
    "plt.title('Training on MNIST Fashion on Tensorflow')\n",
    "plt.show()"
   ]
  },
  {
   "cell_type": "code",
   "execution_count": null,
   "metadata": {},
   "outputs": [],
   "source": []
  }
 ],
 "metadata": {
  "kernelspec": {
   "display_name": "lssd",
   "language": "python",
   "name": "python3"
  },
  "language_info": {
   "codemirror_mode": {
    "name": "ipython",
    "version": 3
   },
   "file_extension": ".py",
   "mimetype": "text/x-python",
   "name": "python",
   "nbconvert_exporter": "python",
   "pygments_lexer": "ipython3",
   "version": "3.10.12"
  },
  "orig_nbformat": 4
 },
 "nbformat": 4,
 "nbformat_minor": 2
}
